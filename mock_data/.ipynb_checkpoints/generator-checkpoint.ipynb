{
 "cells": [
  {
   "metadata": {
    "ExecuteTime": {
     "end_time": "2024-09-15T13:27:55.596567Z",
     "start_time": "2024-09-15T13:27:55.591956Z"
    }
   },
   "cell_type": "code",
   "source": "import faker",
   "id": "bc865158a5178232",
   "outputs": [],
   "execution_count": 3
  },
  {
   "cell_type": "code",
   "id": "initial_id",
   "metadata": {
    "collapsed": true,
    "ExecuteTime": {
     "end_time": "2024-09-15T13:27:43.385673Z",
     "start_time": "2024-09-15T13:27:43.381424Z"
    }
   },
   "source": [
    "def generate_strands():\n",
    "    with open(\"./data/strands.txt\", \"r\") as strands:\n",
    "        print(strands.readlines())\n"
   ],
   "outputs": [],
   "execution_count": 2
  }
 ],
 "metadata": {
  "kernelspec": {
   "display_name": "Python 3",
   "language": "python",
   "name": "python3"
  },
  "language_info": {
   "codemirror_mode": {
    "name": "ipython",
    "version": 2
   },
   "file_extension": ".py",
   "mimetype": "text/x-python",
   "name": "python",
   "nbconvert_exporter": "python",
   "pygments_lexer": "ipython2",
   "version": "2.7.6"
  }
 },
 "nbformat": 4,
 "nbformat_minor": 5
}
