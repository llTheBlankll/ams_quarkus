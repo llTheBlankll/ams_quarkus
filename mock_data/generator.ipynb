{
 "cells": [
  {
   "cell_type": "markdown",
   "id": "bb361664",
   "metadata": {},
   "source": [
    "# Import Faker library for generating fake data"
   ]
  },
  {
   "metadata": {},
   "cell_type": "code",
   "outputs": [],
   "execution_count": null,
   "source": "",
   "id": "5ae6cec80842dd15"
  },
  {
   "cell_type": "code",
   "execution_count": 2,
   "id": "bc865158a5178232",
   "metadata": {
    "ExecuteTime": {
     "end_time": "2024-09-15T13:27:55.596567Z",
     "start_time": "2024-09-15T13:27:55.591956Z"
    }
   },
   "outputs": [],
   "source": [
    "import faker\n",
    "\n",
    "fake: faker.Faker = faker.Faker()"
   ]
  },
  {
   "cell_type": "markdown",
   "id": "cde55b8f",
   "metadata": {},
   "source": [
    "## Generate Strands\n",
    "This will generate strands by reading all the strands in a text file. In this case, it is `./data/strands.txt`"
   ]
  },
  {
   "cell_type": "code",
   "id": "initial_id",
   "metadata": {
    "ExecuteTime": {
     "end_time": "2024-09-15T13:54:22.275520Z",
     "start_time": "2024-09-15T13:54:22.256158Z"
    }
   },
   "source": [
    "from entities.strand import Strand\n",
    "\n",
    "\n",
    "def generate_strands():\n",
    "    with open(\"./data/strands.txt\", \"r\") as strands_file:\n",
    "        mock_strands: list[Strand]\n",
    "        for strand in strands_file.readlines():\n",
    "            strandData: Strand = Strand(0, \"\", \"\")\n",
    "            strandData.name = strand\n",
    "            strandData.description = fake.english_sentence(5)\n",
    "            mock_strands.append(strandData)\n",
    "    print(mock_strands)\n",
    "\n",
    "\n",
    "print(generate_strands())"
   ],
   "outputs": [
    {
     "ename": "NameError",
     "evalue": "name 'fake' is not defined",
     "output_type": "error",
     "traceback": [
      "\u001B[1;31m---------------------------------------------------------------------------\u001B[0m",
      "\u001B[1;31mNameError\u001B[0m                                 Traceback (most recent call last)",
      "Cell \u001B[1;32mIn[3], line 13\u001B[0m\n\u001B[0;32m     10\u001B[0m             mock_strands\u001B[38;5;241m.\u001B[39mappend(strandData)\n\u001B[0;32m     11\u001B[0m     \u001B[38;5;28mprint\u001B[39m(mock_strands)\n\u001B[1;32m---> 13\u001B[0m \u001B[38;5;28mprint\u001B[39m(\u001B[43mgenerate_strands\u001B[49m\u001B[43m(\u001B[49m\u001B[43m)\u001B[49m)\n",
      "Cell \u001B[1;32mIn[3], line 9\u001B[0m, in \u001B[0;36mgenerate_strands\u001B[1;34m()\u001B[0m\n\u001B[0;32m      7\u001B[0m         strandData: Strand \u001B[38;5;241m=\u001B[39m Strand(\u001B[38;5;241m0\u001B[39m, \u001B[38;5;124m\"\u001B[39m\u001B[38;5;124m\"\u001B[39m, \u001B[38;5;124m\"\u001B[39m\u001B[38;5;124m\"\u001B[39m)\n\u001B[0;32m      8\u001B[0m         strandData\u001B[38;5;241m.\u001B[39mname \u001B[38;5;241m=\u001B[39m strand\n\u001B[1;32m----> 9\u001B[0m         strandData\u001B[38;5;241m.\u001B[39mdescription \u001B[38;5;241m=\u001B[39m \u001B[43mfake\u001B[49m\u001B[38;5;241m.\u001B[39menglish_sentence(\u001B[38;5;241m5\u001B[39m)\n\u001B[0;32m     10\u001B[0m         mock_strands\u001B[38;5;241m.\u001B[39mappend(strandData)\n\u001B[0;32m     11\u001B[0m \u001B[38;5;28mprint\u001B[39m(mock_strands)\n",
      "\u001B[1;31mNameError\u001B[0m: name 'fake' is not defined"
     ]
    }
   ],
   "execution_count": 3
  },
  {
   "cell_type": "markdown",
   "id": "54c378e5",
   "metadata": {},
   "source": []
  },
  {
   "cell_type": "code",
   "execution_count": 1,
   "id": "2427d7a0",
   "metadata": {},
   "outputs": [
    {
     "name": "stdout",
     "output_type": "stream",
     "text": [
      "['Grade 11\\n', 'Grade 12']\n"
     ]
    }
   ],
   "source": [
    "from entities.grade_level import GradeLevel\n",
    "\n",
    "def generate_grade_levels():\n",
    "    mock_grade_levels: list[GradeLevel] = []\n",
    "    with open(\"./data/grade_levels.txt\", \"r\") as grade_level_file:\n",
    "        grade_levels = grade_level_file.readlines()\n",
    "        for grade_level in grade_levels:\n",
    "            print(grade_level.strip())\n",
    "\n",
    "\n",
    "print(generate_grade_levels())"
   ]
  },
  {
   "cell_type": "code",
   "execution_count": null,
   "id": "cb1406d8",
   "metadata": {},
   "outputs": [],
   "source": [
    "def generate"
   ]
  }
 ],
 "metadata": {
  "kernelspec": {
   "display_name": "Python 3 (ipykernel)",
   "language": "python",
   "name": "python3"
  },
  "language_info": {
   "codemirror_mode": {
    "name": "ipython",
    "version": 3
   },
   "file_extension": ".py",
   "mimetype": "text/x-python",
   "name": "python",
   "nbconvert_exporter": "python",
   "pygments_lexer": "ipython3",
   "version": "3.12.3"
  }
 },
 "nbformat": 4,
 "nbformat_minor": 5
}
